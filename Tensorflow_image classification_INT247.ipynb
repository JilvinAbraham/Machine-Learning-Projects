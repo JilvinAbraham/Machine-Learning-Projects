{
 "cells": [
  {
   "cell_type": "code",
   "execution_count": 1,
   "metadata": {},
   "outputs": [],
   "source": [
    "#importing the required libraries\n",
    "\n",
    "import tensorflow as tf\n",
    "from tensorflow import keras\n",
    "import numpy as np\n",
    "import matplotlib.pyplot as plt"
   ]
  },
  {
   "cell_type": "code",
   "execution_count": 2,
   "metadata": {},
   "outputs": [],
   "source": [
    "#loading the fashion_mnist dataset\n",
    "data = keras.datasets.fashion_mnist\n",
    "\n",
    "#dividing the data into testing and training\n",
    "(train_images,train_labels),(test_images,test_labels)=data.load_data()"
   ]
  },
  {
   "cell_type": "code",
   "execution_count": 3,
   "metadata": {},
   "outputs": [],
   "source": [
    "class_names = ['T-shirt/top', 'Trouser', 'Pullover', 'Dress', 'Coat',\n",
    "               'Sandal', 'Shirt', 'Sneaker', 'Bag', 'Ankle boot']"
   ]
  },
  {
   "cell_type": "code",
   "execution_count": 4,
   "metadata": {},
   "outputs": [
    {
     "name": "stdout",
     "output_type": "stream",
     "text": [
      "<class 'numpy.ndarray'>\n",
      "[[  0   0   0   0   0   0   0   0   0   0   0   0   0   0   0   0   0   0\n",
      "    0   0   0   0   0   0   0   0   0   0]\n",
      " [  0   0   0   0   0   0   0   0   0   0   0   0   0   0   0   0   0   0\n",
      "    0   0   0   0   0   0   0   0   0   0]\n",
      " [  0   0   0   0   0   0   0   0   0   0   0   0   0   0   0   0   0   0\n",
      "    0   0   0   0   0   0   0   0   0   0]\n",
      " [  0   0   0   0   0   0   0   0   0   0   0   0   1   0   0  13  73   0\n",
      "    0   1   4   0   0   0   0   1   1   0]\n",
      " [  0   0   0   0   0   0   0   0   0   0   0   0   3   0  36 136 127  62\n",
      "   54   0   0   0   1   3   4   0   0   3]\n",
      " [  0   0   0   0   0   0   0   0   0   0   0   0   6   0 102 204 176 134\n",
      "  144 123  23   0   0   0   0  12  10   0]\n",
      " [  0   0   0   0   0   0   0   0   0   0   0   0   0   0 155 236 207 178\n",
      "  107 156 161 109  64  23  77 130  72  15]\n",
      " [  0   0   0   0   0   0   0   0   0   0   0   1   0  69 207 223 218 216\n",
      "  216 163 127 121 122 146 141  88 172  66]\n",
      " [  0   0   0   0   0   0   0   0   0   1   1   1   0 200 232 232 233 229\n",
      "  223 223 215 213 164 127 123 196 229   0]\n",
      " [  0   0   0   0   0   0   0   0   0   0   0   0   0 183 225 216 223 228\n",
      "  235 227 224 222 224 221 223 245 173   0]\n",
      " [  0   0   0   0   0   0   0   0   0   0   0   0   0 193 228 218 213 198\n",
      "  180 212 210 211 213 223 220 243 202   0]\n",
      " [  0   0   0   0   0   0   0   0   0   1   3   0  12 219 220 212 218 192\n",
      "  169 227 208 218 224 212 226 197 209  52]\n",
      " [  0   0   0   0   0   0   0   0   0   0   6   0  99 244 222 220 218 203\n",
      "  198 221 215 213 222 220 245 119 167  56]\n",
      " [  0   0   0   0   0   0   0   0   0   4   0   0  55 236 228 230 228 240\n",
      "  232 213 218 223 234 217 217 209  92   0]\n",
      " [  0   0   1   4   6   7   2   0   0   0   0   0 237 226 217 223 222 219\n",
      "  222 221 216 223 229 215 218 255  77   0]\n",
      " [  0   3   0   0   0   0   0   0   0  62 145 204 228 207 213 221 218 208\n",
      "  211 218 224 223 219 215 224 244 159   0]\n",
      " [  0   0   0   0  18  44  82 107 189 228 220 222 217 226 200 205 211 230\n",
      "  224 234 176 188 250 248 233 238 215   0]\n",
      " [  0  57 187 208 224 221 224 208 204 214 208 209 200 159 245 193 206 223\n",
      "  255 255 221 234 221 211 220 232 246   0]\n",
      " [  3 202 228 224 221 211 211 214 205 205 205 220 240  80 150 255 229 221\n",
      "  188 154 191 210 204 209 222 228 225   0]\n",
      " [ 98 233 198 210 222 229 229 234 249 220 194 215 217 241  65  73 106 117\n",
      "  168 219 221 215 217 223 223 224 229  29]\n",
      " [ 75 204 212 204 193 205 211 225 216 185 197 206 198 213 240 195 227 245\n",
      "  239 223 218 212 209 222 220 221 230  67]\n",
      " [ 48 203 183 194 213 197 185 190 194 192 202 214 219 221 220 236 225 216\n",
      "  199 206 186 181 177 172 181 205 206 115]\n",
      " [  0 122 219 193 179 171 183 196 204 210 213 207 211 210 200 196 194 191\n",
      "  195 191 198 192 176 156 167 177 210  92]\n",
      " [  0   0  74 189 212 191 175 172 175 181 185 188 189 188 193 198 204 209\n",
      "  210 210 211 188 188 194 192 216 170   0]\n",
      " [  2   0   0   0  66 200 222 237 239 242 246 243 244 221 220 193 191 179\n",
      "  182 182 181 176 166 168  99  58   0   0]\n",
      " [  0   0   0   0   0   0   0  40  61  44  72  41  35   0   0   0   0   0\n",
      "    0   0   0   0   0   0   0   0   0   0]\n",
      " [  0   0   0   0   0   0   0   0   0   0   0   0   0   0   0   0   0   0\n",
      "    0   0   0   0   0   0   0   0   0   0]\n",
      " [  0   0   0   0   0   0   0   0   0   0   0   0   0   0   0   0   0   0\n",
      "    0   0   0   0   0   0   0   0   0   0]]\n"
     ]
    },
    {
     "data": {
      "text/plain": [
       "' the data is probably a color coded pixels 0-255'"
      ]
     },
     "execution_count": 4,
     "metadata": {},
     "output_type": "execute_result"
    }
   ],
   "source": [
    "print(type(train_images))\n",
    "print(train_images[0]) # how the real data looks in the dataset fashion_mnist\n",
    "\"\"\" the data is probably a color coded pixels 0-255\"\"\""
   ]
  },
  {
   "cell_type": "code",
   "execution_count": 5,
   "metadata": {},
   "outputs": [
    {
     "name": "stdout",
     "output_type": "stream",
     "text": [
      "(28, 28)\n",
      "(60000, 28, 28)\n"
     ]
    },
    {
     "data": {
      "image/png": "[encoded data removed]",
      "text/plain": [
       "<Figure size 432x288 with 1 Axes>"
      ]
     },
     "metadata": {
      "needs_background": "light"
     },
     "output_type": "display_data"
    }
   ],
   "source": [
    "plt.imshow(train_images[0])#plotting it in graph we can see it represents some clothing material\n",
    "\n",
    "print(train_images[0].shape)#each data is a matrix of 28x28\n",
    "\n",
    "print(train_images.shape)#there are exactly 60000 rows in our dataset with each row of 28x28 matrix"
   ]
  },
  {
   "cell_type": "code",
   "execution_count": 6,
   "metadata": {},
   "outputs": [
    {
     "name": "stdout",
     "output_type": "stream",
     "text": [
      "(2, 4, 3)\n",
      "[[[0.2 0.4 0.6]\n",
      "  [0.6 0.8 1. ]\n",
      "  [0.6 0.8 1. ]\n",
      "  [0.6 0.8 1. ]]\n",
      "\n",
      " [[0.2 0.4 0.6]\n",
      "  [0.6 0.8 1. ]\n",
      "  [0.6 0.8 1. ]\n",
      "  [0.6 0.8 1. ]]]\n"
     ]
    }
   ],
   "source": [
    "#gives you a better idea how the data is present in your dataset\n",
    "l1 = np.array([\n",
    "    \n",
    "               [[1,2,3],[3,4,5],[3,4,5],[3,4,5]],\n",
    "               [[1,2,3],[3,4,5],[3,4,5],[3,4,5]]\n",
    "    \n",
    "              ])\n",
    "print(l1.shape)\n",
    "\n",
    "l1 = l1/5.0\n",
    "print(l1)"
   ]
  },
  {
   "cell_type": "code",
   "execution_count": 7,
   "metadata": {},
   "outputs": [],
   "source": [
    "#we need to scale the data to a lower value to be used efficiently beacuse the \n",
    "#weights and biases set to vary from 0 to 1 so the data should also be in those ranges\n",
    "\n",
    "train_images = train_images/255.0\n",
    "test_images = test_images/255.0"
   ]
  },
  {
   "cell_type": "code",
   "execution_count": 8,
   "metadata": {},
   "outputs": [
    {
     "data": {
      "text/plain": [
       "<matplotlib.image.AxesImage at 0x1ba8000d648>"
      ]
     },
     "execution_count": 8,
     "metadata": {},
     "output_type": "execute_result"
    },
    {
     "data": {
      "image/png": "[encoded data removed]",
      "text/plain": [
       "<Figure size 432x288 with 1 Axes>"
      ]
     },
     "metadata": {
      "needs_background": "light"
     },
     "output_type": "display_data"
    }
   ],
   "source": [
    "#to confirm the data is the same as it was we will look at the image again\n",
    "plt.imshow(train_images[0])"
   ]
  },
  {
   "cell_type": "code",
   "execution_count": 9,
   "metadata": {
    "scrolled": true
   },
   "outputs": [
    {
     "name": "stdout",
     "output_type": "stream",
     "text": [
      "[[0.         0.         0.         0.         0.         0.\n",
      "  0.         0.         0.         0.         0.         0.\n",
      "  0.         0.         0.         0.         0.         0.\n",
      "  0.         0.         0.         0.         0.         0.\n",
      "  0.         0.         0.         0.        ]\n",
      " [0.         0.         0.         0.         0.         0.\n",
      "  0.         0.         0.         0.         0.         0.\n",
      "  0.         0.         0.         0.         0.         0.\n",
      "  0.         0.         0.         0.         0.         0.\n",
      "  0.         0.         0.         0.        ]\n",
      " [0.         0.         0.         0.         0.         0.\n",
      "  0.         0.         0.         0.         0.         0.\n",
      "  0.         0.         0.         0.         0.         0.\n",
      "  0.         0.         0.         0.         0.         0.\n",
      "  0.         0.         0.         0.        ]\n",
      " [0.         0.         0.         0.         0.         0.\n",
      "  0.         0.         0.         0.         0.         0.\n",
      "  0.00392157 0.         0.         0.05098039 0.28627451 0.\n",
      "  0.         0.00392157 0.01568627 0.         0.         0.\n",
      "  0.         0.00392157 0.00392157 0.        ]\n",
      " [0.         0.         0.         0.         0.         0.\n",
      "  0.         0.         0.         0.         0.         0.\n",
      "  0.01176471 0.         0.14117647 0.53333333 0.49803922 0.24313725\n",
      "  0.21176471 0.         0.         0.         0.00392157 0.01176471\n",
      "  0.01568627 0.         0.         0.01176471]\n",
      " [0.         0.         0.         0.         0.         0.\n",
      "  0.         0.         0.         0.         0.         0.\n",
      "  0.02352941 0.         0.4        0.8        0.69019608 0.5254902\n",
      "  0.56470588 0.48235294 0.09019608 0.         0.         0.\n",
      "  0.         0.04705882 0.03921569 0.        ]\n",
      " [0.         0.         0.         0.         0.         0.\n",
      "  0.         0.         0.         0.         0.         0.\n",
      "  0.         0.         0.60784314 0.9254902  0.81176471 0.69803922\n",
      "  0.41960784 0.61176471 0.63137255 0.42745098 0.25098039 0.09019608\n",
      "  0.30196078 0.50980392 0.28235294 0.05882353]\n",
      " [0.         0.         0.         0.         0.         0.\n",
      "  0.         0.         0.         0.         0.         0.00392157\n",
      "  0.         0.27058824 0.81176471 0.8745098  0.85490196 0.84705882\n",
      "  0.84705882 0.63921569 0.49803922 0.4745098  0.47843137 0.57254902\n",
      "  0.55294118 0.34509804 0.6745098  0.25882353]\n",
      " [0.         0.         0.         0.         0.         0.\n",
      "  0.         0.         0.         0.00392157 0.00392157 0.00392157\n",
      "  0.         0.78431373 0.90980392 0.90980392 0.91372549 0.89803922\n",
      "  0.8745098  0.8745098  0.84313725 0.83529412 0.64313725 0.49803922\n",
      "  0.48235294 0.76862745 0.89803922 0.        ]\n",
      " [0.         0.         0.         0.         0.         0.\n",
      "  0.         0.         0.         0.         0.         0.\n",
      "  0.         0.71764706 0.88235294 0.84705882 0.8745098  0.89411765\n",
      "  0.92156863 0.89019608 0.87843137 0.87058824 0.87843137 0.86666667\n",
      "  0.8745098  0.96078431 0.67843137 0.        ]\n",
      " [0.         0.         0.         0.         0.         0.\n",
      "  0.         0.         0.         0.         0.         0.\n",
      "  0.         0.75686275 0.89411765 0.85490196 0.83529412 0.77647059\n",
      "  0.70588235 0.83137255 0.82352941 0.82745098 0.83529412 0.8745098\n",
      "  0.8627451  0.95294118 0.79215686 0.        ]\n",
      " [0.         0.         0.         0.         0.         0.\n",
      "  0.         0.         0.         0.00392157 0.01176471 0.\n",
      "  0.04705882 0.85882353 0.8627451  0.83137255 0.85490196 0.75294118\n",
      "  0.6627451  0.89019608 0.81568627 0.85490196 0.87843137 0.83137255\n",
      "  0.88627451 0.77254902 0.81960784 0.20392157]\n",
      " [0.         0.         0.         0.         0.         0.\n",
      "  0.         0.         0.         0.         0.02352941 0.\n",
      "  0.38823529 0.95686275 0.87058824 0.8627451  0.85490196 0.79607843\n",
      "  0.77647059 0.86666667 0.84313725 0.83529412 0.87058824 0.8627451\n",
      "  0.96078431 0.46666667 0.65490196 0.21960784]\n",
      " [0.         0.         0.         0.         0.         0.\n",
      "  0.         0.         0.         0.01568627 0.         0.\n",
      "  0.21568627 0.9254902  0.89411765 0.90196078 0.89411765 0.94117647\n",
      "  0.90980392 0.83529412 0.85490196 0.8745098  0.91764706 0.85098039\n",
      "  0.85098039 0.81960784 0.36078431 0.        ]\n",
      " [0.         0.         0.00392157 0.01568627 0.02352941 0.02745098\n",
      "  0.00784314 0.         0.         0.         0.         0.\n",
      "  0.92941176 0.88627451 0.85098039 0.8745098  0.87058824 0.85882353\n",
      "  0.87058824 0.86666667 0.84705882 0.8745098  0.89803922 0.84313725\n",
      "  0.85490196 1.         0.30196078 0.        ]\n",
      " [0.         0.01176471 0.         0.         0.         0.\n",
      "  0.         0.         0.         0.24313725 0.56862745 0.8\n",
      "  0.89411765 0.81176471 0.83529412 0.86666667 0.85490196 0.81568627\n",
      "  0.82745098 0.85490196 0.87843137 0.8745098  0.85882353 0.84313725\n",
      "  0.87843137 0.95686275 0.62352941 0.        ]\n",
      " [0.         0.         0.         0.         0.07058824 0.17254902\n",
      "  0.32156863 0.41960784 0.74117647 0.89411765 0.8627451  0.87058824\n",
      "  0.85098039 0.88627451 0.78431373 0.80392157 0.82745098 0.90196078\n",
      "  0.87843137 0.91764706 0.69019608 0.7372549  0.98039216 0.97254902\n",
      "  0.91372549 0.93333333 0.84313725 0.        ]\n",
      " [0.         0.22352941 0.73333333 0.81568627 0.87843137 0.86666667\n",
      "  0.87843137 0.81568627 0.8        0.83921569 0.81568627 0.81960784\n",
      "  0.78431373 0.62352941 0.96078431 0.75686275 0.80784314 0.8745098\n",
      "  1.         1.         0.86666667 0.91764706 0.86666667 0.82745098\n",
      "  0.8627451  0.90980392 0.96470588 0.        ]\n",
      " [0.01176471 0.79215686 0.89411765 0.87843137 0.86666667 0.82745098\n",
      "  0.82745098 0.83921569 0.80392157 0.80392157 0.80392157 0.8627451\n",
      "  0.94117647 0.31372549 0.58823529 1.         0.89803922 0.86666667\n",
      "  0.7372549  0.60392157 0.74901961 0.82352941 0.8        0.81960784\n",
      "  0.87058824 0.89411765 0.88235294 0.        ]\n",
      " [0.38431373 0.91372549 0.77647059 0.82352941 0.87058824 0.89803922\n",
      "  0.89803922 0.91764706 0.97647059 0.8627451  0.76078431 0.84313725\n",
      "  0.85098039 0.94509804 0.25490196 0.28627451 0.41568627 0.45882353\n",
      "  0.65882353 0.85882353 0.86666667 0.84313725 0.85098039 0.8745098\n",
      "  0.8745098  0.87843137 0.89803922 0.11372549]\n",
      " [0.29411765 0.8        0.83137255 0.8        0.75686275 0.80392157\n",
      "  0.82745098 0.88235294 0.84705882 0.7254902  0.77254902 0.80784314\n",
      "  0.77647059 0.83529412 0.94117647 0.76470588 0.89019608 0.96078431\n",
      "  0.9372549  0.8745098  0.85490196 0.83137255 0.81960784 0.87058824\n",
      "  0.8627451  0.86666667 0.90196078 0.2627451 ]\n",
      " [0.18823529 0.79607843 0.71764706 0.76078431 0.83529412 0.77254902\n",
      "  0.7254902  0.74509804 0.76078431 0.75294118 0.79215686 0.83921569\n",
      "  0.85882353 0.86666667 0.8627451  0.9254902  0.88235294 0.84705882\n",
      "  0.78039216 0.80784314 0.72941176 0.70980392 0.69411765 0.6745098\n",
      "  0.70980392 0.80392157 0.80784314 0.45098039]\n",
      " [0.         0.47843137 0.85882353 0.75686275 0.70196078 0.67058824\n",
      "  0.71764706 0.76862745 0.8        0.82352941 0.83529412 0.81176471\n",
      "  0.82745098 0.82352941 0.78431373 0.76862745 0.76078431 0.74901961\n",
      "  0.76470588 0.74901961 0.77647059 0.75294118 0.69019608 0.61176471\n",
      "  0.65490196 0.69411765 0.82352941 0.36078431]\n",
      " [0.         0.         0.29019608 0.74117647 0.83137255 0.74901961\n",
      "  0.68627451 0.6745098  0.68627451 0.70980392 0.7254902  0.7372549\n",
      "  0.74117647 0.7372549  0.75686275 0.77647059 0.8        0.81960784\n",
      "  0.82352941 0.82352941 0.82745098 0.7372549  0.7372549  0.76078431\n",
      "  0.75294118 0.84705882 0.66666667 0.        ]\n",
      " [0.00784314 0.         0.         0.         0.25882353 0.78431373\n",
      "  0.87058824 0.92941176 0.9372549  0.94901961 0.96470588 0.95294118\n",
      "  0.95686275 0.86666667 0.8627451  0.75686275 0.74901961 0.70196078\n",
      "  0.71372549 0.71372549 0.70980392 0.69019608 0.65098039 0.65882353\n",
      "  0.38823529 0.22745098 0.         0.        ]\n",
      " [0.         0.         0.         0.         0.         0.\n",
      "  0.         0.15686275 0.23921569 0.17254902 0.28235294 0.16078431\n",
      "  0.1372549  0.         0.         0.         0.         0.\n",
      "  0.         0.         0.         0.         0.         0.\n",
      "  0.         0.         0.         0.        ]\n",
      " [0.         0.         0.         0.         0.         0.\n",
      "  0.         0.         0.         0.         0.         0.\n",
      "  0.         0.         0.         0.         0.         0.\n",
      "  0.         0.         0.         0.         0.         0.\n",
      "  0.         0.         0.         0.        ]\n",
      " [0.         0.         0.         0.         0.         0.\n",
      "  0.         0.         0.         0.         0.         0.\n",
      "  0.         0.         0.         0.         0.         0.\n",
      "  0.         0.         0.         0.         0.         0.\n",
      "  0.         0.         0.         0.        ]]\n"
     ]
    }
   ],
   "source": [
    "#but now the data is efficient to use take a look\n",
    "print(train_images[0])"
   ]
  },
  {
   "cell_type": "code",
   "execution_count": 10,
   "metadata": {},
   "outputs": [
    {
     "name": "stdout",
     "output_type": "stream",
     "text": [
      "Train on 60000 samples\n",
      "Epoch 1/5\n",
      "60000/60000 [==============================] - 27s 443us/sample - loss: 0.5004 - accuracy: 0.8259\n",
      "Epoch 2/5\n",
      "60000/60000 [==============================] - 6s 106us/sample - loss: 0.3760 - accuracy: 0.8645\n",
      "Epoch 3/5\n",
      "60000/60000 [==============================] - 6s 106us/sample - loss: 0.3351 - accuracy: 0.8767\n",
      "Epoch 4/5\n",
      "60000/60000 [==============================] - 6s 103us/sample - loss: 0.3127 - accuracy: 0.8847\n",
      "Epoch 5/5\n",
      "60000/60000 [==============================] - 6s 107us/sample - loss: 0.2927 - accuracy: 0.8912\n",
      "10000/10000 [==============================] - 1s 92us/sample - loss: 0.3365 - accuracy: 0.8793\n",
      "Test Acc for relu: 0.8793\n"
     ]
    }
   ],
   "source": [
    "#creating the model with relu as activation function\n",
    "model_relu = keras.Sequential([\n",
    "    \n",
    "    keras.layers.Flatten(input_shape=(28,28)),\n",
    "    keras.layers.Dense(128,activation=\"relu\"), \n",
    "    keras.layers.Dense(10,activation=\"softmax\") #softmax: gives you the probabilities it thinks the data belongs to each class\n",
    "])\n",
    "\n",
    "model_relu.compile(optimizer=\"adam\",loss=\"sparse_categorical_crossentropy\",metrics=[\"accuracy\"])\n",
    "model_relu.fit(train_images,train_labels,epochs=5)#you can tweak the number of epochs to get better results\n",
    "test_loss_relu,test_acc_relu = model_relu.evaluate(test_images,test_labels)\n",
    "print(\"Test Acc for relu:\",test_acc_relu)"
   ]
  },
  {
   "cell_type": "code",
   "execution_count": 11,
   "metadata": {},
   "outputs": [
    {
     "name": "stdout",
     "output_type": "stream",
     "text": [
      "Train on 60000 samples\n",
      "Epoch 1/5\n",
      "60000/60000 [==============================] - 7s 110us/sample - loss: 0.5520 - accuracy: 0.8105\n",
      "Epoch 2/5\n",
      "60000/60000 [==============================] - 6s 103us/sample - loss: 0.3927 - accuracy: 0.8576\n",
      "Epoch 3/5\n",
      "60000/60000 [==============================] - 6s 102us/sample - loss: 0.3563 - accuracy: 0.8722\n",
      "Epoch 4/5\n",
      "60000/60000 [==============================] - 6s 102us/sample - loss: 0.3303 - accuracy: 0.8797\n",
      "Epoch 5/5\n",
      "60000/60000 [==============================] - 6s 103us/sample - loss: 0.3116 - accuracy: 0.8853\n",
      "10000/10000 [==============================] - 1s 78us/sample - loss: 0.3551 - accuracy: 0.8729\n",
      "Test Acc for sigmoid: 0.8729\n"
     ]
    }
   ],
   "source": [
    "#creating the model with sigmoid as activation function\n",
    "model_sigmoid = keras.Sequential([\n",
    "    \n",
    "    keras.layers.Flatten(input_shape=(28,28)),\n",
    "    keras.layers.Dense(128,activation=\"sigmoid\"), \n",
    "    keras.layers.Dense(10,activation=\"softmax\") #softmax: gives you the probabilities it thinks the data belongs to each class\n",
    "])\n",
    "\n",
    "model_sigmoid.compile(optimizer=\"adam\",loss=\"sparse_categorical_crossentropy\",metrics=[\"accuracy\"])\n",
    "model_sigmoid.fit(train_images,train_labels,epochs=5)#you can tweak the number of epochs to get better results\n",
    "test_loss_sigmoid,test_acc_sigmoid = model_sigmoid.evaluate(test_images,test_labels)\n",
    "print(\"Test Acc for sigmoid:\",test_acc_sigmoid)"
   ]
  },
  {
   "cell_type": "code",
   "execution_count": 12,
   "metadata": {},
   "outputs": [
    {
     "name": "stdout",
     "output_type": "stream",
     "text": [
      "Train on 60000 samples\n",
      "Epoch 1/5\n",
      "60000/60000 [==============================] - 7s 113us/sample - loss: 0.4794 - accuracy: 0.8274\n",
      "Epoch 2/5\n",
      "60000/60000 [==============================] - 6s 106us/sample - loss: 0.3705 - accuracy: 0.8654\n",
      "Epoch 3/5\n",
      "60000/60000 [==============================] - 6s 106us/sample - loss: 0.3350 - accuracy: 0.8766\n",
      "Epoch 4/5\n",
      "60000/60000 [==============================] - 7s 114us/sample - loss: 0.3149 - accuracy: 0.8848\n",
      "Epoch 5/5\n",
      "60000/60000 [==============================] - 7s 109us/sample - loss: 0.2959 - accuracy: 0.8914\n",
      "10000/10000 [==============================] - 1s 80us/sample - loss: 0.3691 - accuracy: 0.8674\n",
      "Test Acc for tanh: 0.8674\n"
     ]
    }
   ],
   "source": [
    "#creating the model with tanh as activation function\n",
    "model_tanh = keras.Sequential([\n",
    "    \n",
    "    keras.layers.Flatten(input_shape=(28,28)),\n",
    "    keras.layers.Dense(128,activation=\"tanh\"), \n",
    "    keras.layers.Dense(10,activation=\"softmax\") #softmax: gives you the probabilities it thinks the data belongs to each class\n",
    "])\n",
    "\n",
    "model_tanh.compile(optimizer=\"adam\",loss=\"sparse_categorical_crossentropy\",metrics=[\"accuracy\"])\n",
    "model_tanh.fit(train_images,train_labels,epochs=5)#you can tweak the number of epochs to get better results\n",
    "test_loss_tanh,test_acc_tanh = model_tanh.evaluate(test_images,test_labels)\n",
    "print(\"Test Acc for tanh:\",test_acc_tanh)"
   ]
  },
  {
   "cell_type": "code",
   "execution_count": 13,
   "metadata": {
    "scrolled": true
   },
   "outputs": [
    {
     "name": "stdout",
     "output_type": "stream",
     "text": [
      "Train on 60000 samples\n",
      "60000/60000 [==============================] - 7s 116us/sample - loss: 0.4981 - accuracy: 0.8245\n",
      "10000/10000 [==============================] - 1s 78us/sample - loss: 0.4479 - accuracy: 0.8372\n",
      "Train on 60000 samples\n",
      "Epoch 1/2\n",
      "60000/60000 [==============================] - 7s 115us/sample - loss: 0.4948 - accuracy: 0.8267\n",
      "Epoch 2/2\n",
      "60000/60000 [==============================] - 6s 105us/sample - loss: 0.3691 - accuracy: 0.8676\n",
      "10000/10000 [==============================] - 2s 198us/sample - loss: 0.3842 - accuracy: 0.8608\n",
      "Train on 60000 samples\n",
      "Epoch 1/3\n",
      "60000/60000 [==============================] - 7s 113us/sample - loss: 0.5074 - accuracy: 0.8220\n",
      "Epoch 2/3\n",
      "60000/60000 [==============================] - 6s 103us/sample - loss: 0.3805 - accuracy: 0.8625\n",
      "Epoch 3/3\n",
      "60000/60000 [==============================] - 6s 106us/sample - loss: 0.3417 - accuracy: 0.8759\n",
      "10000/10000 [==============================] - 1s 77us/sample - loss: 0.3695 - accuracy: 0.8710\n",
      "Train on 60000 samples\n",
      "Epoch 1/4\n",
      "60000/60000 [==============================] - 7s 112us/sample - loss: 0.4935 - accuracy: 0.8265\n",
      "Epoch 2/4\n",
      "60000/60000 [==============================] - 6s 106us/sample - loss: 0.3720 - accuracy: 0.8659\n",
      "Epoch 3/4\n",
      "60000/60000 [==============================] - 6s 96us/sample - loss: 0.3351 - accuracy: 0.8780\n",
      "Epoch 4/4\n",
      "60000/60000 [==============================] - 6s 102us/sample - loss: 0.3115 - accuracy: 0.8852\n",
      "10000/10000 [==============================] - 1s 88us/sample - loss: 0.3513 - accuracy: 0.8752\n",
      "Train on 60000 samples\n",
      "Epoch 1/5\n",
      "60000/60000 [==============================] - 7s 123us/sample - loss: 0.5001 - accuracy: 0.8263\n",
      "Epoch 2/5\n",
      "60000/60000 [==============================] - 6s 108us/sample - loss: 0.3752 - accuracy: 0.8644\n",
      "Epoch 3/5\n",
      "60000/60000 [==============================] - 6s 104us/sample - loss: 0.3348 - accuracy: 0.8790\n",
      "Epoch 4/5\n",
      "60000/60000 [==============================] - 7s 109us/sample - loss: 0.3118 - accuracy: 0.8859\n",
      "Epoch 5/5\n",
      "60000/60000 [==============================] - 7s 109us/sample - loss: 0.2935 - accuracy: 0.8921\n",
      "10000/10000 [==============================] - 1s 92us/sample - loss: 0.3453 - accuracy: 0.8797\n",
      "Train on 60000 samples\n",
      "Epoch 1/6\n",
      "60000/60000 [==============================] - 7s 119us/sample - loss: 0.4990 - accuracy: 0.8262\n",
      "Epoch 2/6\n",
      "60000/60000 [==============================] - 6s 106us/sample - loss: 0.3722 - accuracy: 0.8654\n",
      "Epoch 3/6\n",
      "60000/60000 [==============================] - 7s 109us/sample - loss: 0.3371 - accuracy: 0.8767\n",
      "Epoch 4/6\n",
      "60000/60000 [==============================] - 6s 108us/sample - loss: 0.3132 - accuracy: 0.8844\n",
      "Epoch 5/6\n",
      "60000/60000 [==============================] - 7s 115us/sample - loss: 0.2937 - accuracy: 0.8918\n",
      "Epoch 6/6\n",
      "60000/60000 [==============================] - 7s 122us/sample - loss: 0.2805 - accuracy: 0.8958\n",
      "10000/10000 [==============================] - 1s 88us/sample - loss: 0.3507 - accuracy: 0.8773\n",
      "Train on 60000 samples\n",
      "Epoch 1/7\n",
      "60000/60000 [==============================] - 7s 115us/sample - loss: 0.4951 - accuracy: 0.8247\n",
      "Epoch 2/7\n",
      "60000/60000 [==============================] - 6s 97us/sample - loss: 0.3726 - accuracy: 0.8649\n",
      "Epoch 3/7\n",
      "60000/60000 [==============================] - 6s 100us/sample - loss: 0.3364 - accuracy: 0.8772\n",
      "Epoch 4/7\n",
      "60000/60000 [==============================] - 6s 101us/sample - loss: 0.3095 - accuracy: 0.8865\n",
      "Epoch 5/7\n",
      "60000/60000 [==============================] - 6s 101us/sample - loss: 0.2918 - accuracy: 0.8927\n",
      "Epoch 6/7\n",
      "60000/60000 [==============================] - 6s 100us/sample - loss: 0.2778 - accuracy: 0.8963\n",
      "Epoch 7/7\n",
      "60000/60000 [==============================] - 7s 108us/sample - loss: 0.2648 - accuracy: 0.9008\n",
      "10000/10000 [==============================] - 1s 80us/sample - loss: 0.3687 - accuracy: 0.8685\n",
      "Train on 60000 samples\n",
      "Epoch 1/8\n",
      "60000/60000 [==============================] - 7s 118us/sample - loss: 0.4940 - accuracy: 0.8268\n",
      "Epoch 2/8\n",
      "60000/60000 [==============================] - 7s 114us/sample - loss: 0.3715 - accuracy: 0.8656\n",
      "Epoch 3/8\n",
      "60000/60000 [==============================] - 7s 116us/sample - loss: 0.3351 - accuracy: 0.8766\n",
      "Epoch 4/8\n",
      "60000/60000 [==============================] - 7s 115us/sample - loss: 0.3095 - accuracy: 0.8846\n",
      "Epoch 5/8\n",
      "60000/60000 [==============================] - 6s 108us/sample - loss: 0.2930 - accuracy: 0.8925\n",
      "Epoch 6/8\n",
      "60000/60000 [==============================] - 7s 110us/sample - loss: 0.2783 - accuracy: 0.8968\n",
      "Epoch 7/8\n",
      "60000/60000 [==============================] - 7s 110us/sample - loss: 0.2655 - accuracy: 0.9008\n",
      "Epoch 8/8\n",
      "60000/60000 [==============================] - 7s 119us/sample - loss: 0.2558 - accuracy: 0.9043\n",
      "10000/10000 [==============================] - 1s 78us/sample - loss: 0.3274 - accuracy: 0.8848\n",
      "Train on 60000 samples\n",
      "Epoch 1/9\n",
      "60000/60000 [==============================] - 8s 138us/sample - loss: 0.5024 - accuracy: 0.8233\n",
      "Epoch 2/9\n",
      "60000/60000 [==============================] - 7s 120us/sample - loss: 0.3759 - accuracy: 0.8640\n",
      "Epoch 3/9\n",
      "60000/60000 [==============================] - 7s 114us/sample - loss: 0.3384 - accuracy: 0.8770\n",
      "Epoch 4/9\n",
      "60000/60000 [==============================] - 7s 111us/sample - loss: 0.3138 - accuracy: 0.8854\n",
      "Epoch 5/9\n",
      "60000/60000 [==============================] - 7s 117us/sample - loss: 0.2968 - accuracy: 0.8904\n",
      "Epoch 6/9\n",
      "60000/60000 [==============================] - 7s 119us/sample - loss: 0.2829 - accuracy: 0.8948\n",
      "Epoch 7/9\n",
      "60000/60000 [==============================] - 7s 114us/sample - loss: 0.2695 - accuracy: 0.8997\n",
      "Epoch 8/9\n",
      "60000/60000 [==============================] - 7s 110us/sample - loss: 0.2583 - accuracy: 0.9046\n",
      "Epoch 9/9\n",
      "60000/60000 [==============================] - 7s 110us/sample - loss: 0.2481 - accuracy: 0.9072\n",
      "10000/10000 [==============================] - 1s 88us/sample - loss: 0.3488 - accuracy: 0.8802\n",
      "Train on 60000 samples\n",
      "Epoch 1/10\n",
      "60000/60000 [==============================] - 8s 126us/sample - loss: 0.4964 - accuracy: 0.8246\n",
      "Epoch 2/10\n",
      "60000/60000 [==============================] - 7s 121us/sample - loss: 0.3735 - accuracy: 0.8650\n",
      "Epoch 3/10\n",
      "60000/60000 [==============================] - 7s 112us/sample - loss: 0.3342 - accuracy: 0.8798\n",
      "Epoch 4/10\n",
      "60000/60000 [==============================] - 6s 103us/sample - loss: 0.3099 - accuracy: 0.8858\n",
      "Epoch 5/10\n",
      "60000/60000 [==============================] - 6s 98us/sample - loss: 0.2931 - accuracy: 0.8927\n",
      "Epoch 6/10\n",
      "60000/60000 [==============================] - 6s 98us/sample - loss: 0.2790 - accuracy: 0.8968\n",
      "Epoch 7/10\n",
      "60000/60000 [==============================] - 6s 99us/sample - loss: 0.2660 - accuracy: 0.9018\n",
      "Epoch 8/10\n",
      "60000/60000 [==============================] - 6s 100us/sample - loss: 0.2556 - accuracy: 0.9051\n",
      "Epoch 9/10\n",
      "60000/60000 [==============================] - 7s 113us/sample - loss: 0.2457 - accuracy: 0.9085\n",
      "Epoch 10/10\n",
      "60000/60000 [==============================] - 7s 108us/sample - loss: 0.2371 - accuracy: 0.9110\n",
      "10000/10000 [==============================] - 1s 87us/sample - loss: 0.3298 - accuracy: 0.8857\n"
     ]
    }
   ],
   "source": [
    "#Relu model\n",
    "relu_acc = []\n",
    "for i in range(1,11):\n",
    "    model_relu = keras.Sequential([\n",
    "    \n",
    "    keras.layers.Flatten(input_shape=(28,28)),\n",
    "    keras.layers.Dense(128,activation=\"relu\"), \n",
    "    keras.layers.Dense(10,activation=\"softmax\") #softmax: gives you the probabilities it thinks the data belongs to each class\n",
    "    ])\n",
    "\n",
    "    model_relu.compile(optimizer=\"adam\",loss=\"sparse_categorical_crossentropy\",metrics=[\"accuracy\"])\n",
    "    \n",
    "    model_relu.fit(train_images,train_labels,epochs=i)\n",
    "    test_loss_relu_list,test_acc_relu_list = model_relu.evaluate(test_images,test_labels)\n",
    "    relu_acc.append(test_acc_relu_list)\n",
    "    "
   ]
  },
  {
   "cell_type": "code",
   "execution_count": 14,
   "metadata": {},
   "outputs": [],
   "source": [
    "relu_train_accuracy=[0.8239, 0.8647, 0.8784,0.8864,0.8907,0.8959,0.9010,0.9056,0.9075,0.9110]"
   ]
  },
  {
   "cell_type": "code",
   "execution_count": 15,
   "metadata": {},
   "outputs": [
    {
     "data": {
      "text/plain": [
       "<matplotlib.legend.Legend at 0x1ba9e301ec8>"
      ]
     },
     "execution_count": 15,
     "metadata": {},
     "output_type": "execute_result"
    },
    {
     "data": {
      "image/png": "[encoded data removed]",
      "text/plain": [
       "<Figure size 432x288 with 1 Axes>"
      ]
     },
     "metadata": {
      "needs_background": "light"
     },
     "output_type": "display_data"
    }
   ],
   "source": [
    "x = [i for i in range(1,11)]\n",
    "y1 = relu_train_accuracy\n",
    "y2 = relu_acc\n",
    "plt.plot(x,y1,marker=\"o\",color=\"skyblue\",linestyle=\"dashed\",label=\"train_accuracy\")\n",
    "plt.plot(x,y2,marker=\"o\",color=\"green\",label=\"test_accuracy\")\n",
    "plt.xlabel(\"Number of epochs\")\n",
    "plt.ylabel(\"Accuracy\")\n",
    "plt.legend()"
   ]
  },
  {
   "cell_type": "code",
   "execution_count": 16,
   "metadata": {
    "scrolled": true
   },
   "outputs": [
    {
     "name": "stdout",
     "output_type": "stream",
     "text": [
      "Train on 60000 samples\n",
      "60000/60000 [==============================] - 8s 128us/sample - loss: 0.5406 - accuracy: 0.8159\n",
      "10000/10000 [==============================] - 1s 132us/sample - loss: 0.4386 - accuracy: 0.8416\n",
      "Train on 60000 samples\n",
      "Epoch 1/2\n",
      "60000/60000 [==============================] - 7s 111us/sample - loss: 0.5432 - accuracy: 0.8136\n",
      "Epoch 2/2\n",
      "60000/60000 [==============================] - 6s 104us/sample - loss: 0.3904 - accuracy: 0.8595\n",
      "10000/10000 [==============================] - 1s 85us/sample - loss: 0.4116 - accuracy: 0.8508\n",
      "Train on 60000 samples\n",
      "Epoch 1/3\n",
      "60000/60000 [==============================] - 7s 111us/sample - loss: 0.5396 - accuracy: 0.8158\n",
      "Epoch 2/3\n",
      "60000/60000 [==============================] - 7s 109us/sample - loss: 0.3915 - accuracy: 0.8587\n",
      "Epoch 3/3\n",
      "60000/60000 [==============================] - 7s 112us/sample - loss: 0.3534 - accuracy: 0.8725\n",
      "10000/10000 [==============================] - 1s 93us/sample - loss: 0.3712 - accuracy: 0.8689\n",
      "Train on 60000 samples\n",
      "Epoch 1/4\n",
      "60000/60000 [==============================] - 7s 119us/sample - loss: 0.5430 - accuracy: 0.8142\n",
      "Epoch 2/4\n",
      "60000/60000 [==============================] - 6s 106us/sample - loss: 0.3912 - accuracy: 0.8591\n",
      "Epoch 3/4\n",
      "60000/60000 [==============================] - 8s 128us/sample - loss: 0.3547 - accuracy: 0.8709\n",
      "Epoch 4/4\n",
      "60000/60000 [==============================] - 8s 141us/sample - loss: 0.3306 - accuracy: 0.8804\n",
      "10000/10000 [==============================] - 1s 84us/sample - loss: 0.3726 - accuracy: 0.8640\n",
      "Train on 60000 samples\n",
      "Epoch 1/5\n",
      "60000/60000 [==============================] - 8s 141us/sample - loss: 0.5430 - accuracy: 0.8147\n",
      "Epoch 2/5\n",
      "60000/60000 [==============================] - 7s 111us/sample - loss: 0.3925 - accuracy: 0.8584\n",
      "Epoch 3/5\n",
      "60000/60000 [==============================] - 7s 112us/sample - loss: 0.3546 - accuracy: 0.8713\n",
      "Epoch 4/5\n",
      "60000/60000 [==============================] - 7s 113us/sample - loss: 0.3301 - accuracy: 0.8809\n",
      "Epoch 5/5\n",
      "60000/60000 [==============================] - 7s 117us/sample - loss: 0.3126 - accuracy: 0.8850\n",
      "10000/10000 [==============================] - 1s 103us/sample - loss: 0.3479 - accuracy: 0.8730\n",
      "Train on 60000 samples\n",
      "Epoch 1/6\n",
      "60000/60000 [==============================] - 9s 154us/sample - loss: 0.5474 - accuracy: 0.8127\n",
      "Epoch 2/6\n",
      "60000/60000 [==============================] - 9s 143us/sample - loss: 0.3915 - accuracy: 0.8586\n",
      "Epoch 3/6\n",
      "60000/60000 [==============================] - 7s 112us/sample - loss: 0.3535 - accuracy: 0.8720\n",
      "Epoch 4/6\n",
      "60000/60000 [==============================] - 7s 119us/sample - loss: 0.3298 - accuracy: 0.8800\n",
      "Epoch 5/6\n",
      "60000/60000 [==============================] - 8s 134us/sample - loss: 0.3112 - accuracy: 0.8872\n",
      "Epoch 6/6\n",
      "60000/60000 [==============================] - 7s 111us/sample - loss: 0.2955 - accuracy: 0.8923\n",
      "10000/10000 [==============================] - 1s 84us/sample - loss: 0.3484 - accuracy: 0.8750\n",
      "Train on 60000 samples\n",
      "Epoch 1/7\n",
      "60000/60000 [==============================] - 7s 115us/sample - loss: 0.5396 - accuracy: 0.8163\n",
      "Epoch 2/7\n",
      "60000/60000 [==============================] - 7s 120us/sample - loss: 0.3906 - accuracy: 0.8598\n",
      "Epoch 3/7\n",
      "60000/60000 [==============================] - 7s 114us/sample - loss: 0.3548 - accuracy: 0.8710\n",
      "Epoch 4/7\n",
      "60000/60000 [==============================] - 8s 126us/sample - loss: 0.3298 - accuracy: 0.8803\n",
      "Epoch 5/7\n",
      "60000/60000 [==============================] - 7s 110us/sample - loss: 0.3122 - accuracy: 0.8863\n",
      "Epoch 6/7\n",
      "60000/60000 [==============================] - 6s 107us/sample - loss: 0.2959 - accuracy: 0.8922\n",
      "Epoch 7/7\n",
      "60000/60000 [==============================] - 6s 103us/sample - loss: 0.2835 - accuracy: 0.8954\n",
      "10000/10000 [==============================] - 1s 78us/sample - loss: 0.3433 - accuracy: 0.8762\n",
      "Train on 60000 samples\n",
      "Epoch 1/8\n",
      "60000/60000 [==============================] - 6s 108us/sample - loss: 0.5437 - accuracy: 0.8130\n",
      "Epoch 2/8\n",
      "60000/60000 [==============================] - 6s 103us/sample - loss: 0.3905 - accuracy: 0.8587\n",
      "Epoch 3/8\n",
      "60000/60000 [==============================] - 6s 102us/sample - loss: 0.3545 - accuracy: 0.8716\n",
      "Epoch 4/8\n",
      "60000/60000 [==============================] - 6s 102us/sample - loss: 0.3298 - accuracy: 0.8802\n",
      "Epoch 5/8\n",
      "60000/60000 [==============================] - 6s 103us/sample - loss: 0.3135 - accuracy: 0.8849\n",
      "Epoch 6/8\n",
      "60000/60000 [==============================] - 6s 103us/sample - loss: 0.2966 - accuracy: 0.8917\n",
      "Epoch 7/8\n",
      "60000/60000 [==============================] - 6s 104us/sample - loss: 0.2848 - accuracy: 0.8958\n",
      "Epoch 8/8\n",
      "60000/60000 [==============================] - 6s 102us/sample - loss: 0.2732 - accuracy: 0.8988\n",
      "10000/10000 [==============================] - 1s 78us/sample - loss: 0.3336 - accuracy: 0.8780\n",
      "Train on 60000 samples\n",
      "Epoch 1/9\n",
      "60000/60000 [==============================] - 7s 109us/sample - loss: 0.5416 - accuracy: 0.8151\n",
      "Epoch 2/9\n",
      "60000/60000 [==============================] - 6s 103us/sample - loss: 0.3899 - accuracy: 0.8593\n",
      "Epoch 3/9\n",
      "60000/60000 [==============================] - 6s 103us/sample - loss: 0.3527 - accuracy: 0.8725\n",
      "Epoch 4/9\n",
      "60000/60000 [==============================] - 6s 103us/sample - loss: 0.3273 - accuracy: 0.8809\n",
      "Epoch 5/9\n",
      "60000/60000 [==============================] - 6s 103us/sample - loss: 0.3097 - accuracy: 0.8862\n",
      "Epoch 6/9\n",
      "60000/60000 [==============================] - 6s 103us/sample - loss: 0.2935 - accuracy: 0.8916\n",
      "Epoch 7/9\n",
      "60000/60000 [==============================] - 6s 103us/sample - loss: 0.2804 - accuracy: 0.8974\n",
      "Epoch 8/9\n",
      "60000/60000 [==============================] - 6s 103us/sample - loss: 0.2693 - accuracy: 0.9009\n",
      "Epoch 9/9\n",
      "60000/60000 [==============================] - 7s 118us/sample - loss: 0.2587 - accuracy: 0.9043\n",
      "10000/10000 [==============================] - 1s 76us/sample - loss: 0.3195 - accuracy: 0.8857\n",
      "Train on 60000 samples\n",
      "Epoch 1/10\n",
      "60000/60000 [==============================] - 7s 120us/sample - loss: 0.5431 - accuracy: 0.8129\n",
      "Epoch 2/10\n",
      "60000/60000 [==============================] - 7s 115us/sample - loss: 0.3932 - accuracy: 0.8586\n",
      "Epoch 3/10\n",
      "60000/60000 [==============================] - 6s 100us/sample - loss: 0.3571 - accuracy: 0.8715\n",
      "Epoch 4/10\n",
      "60000/60000 [==============================] - 6s 108us/sample - loss: 0.3303 - accuracy: 0.8801\n",
      "Epoch 5/10\n",
      "60000/60000 [==============================] - 7s 116us/sample - loss: 0.3111 - accuracy: 0.8870\n",
      "Epoch 6/10\n",
      "60000/60000 [==============================] - 6s 103us/sample - loss: 0.2974 - accuracy: 0.8910\n",
      "Epoch 7/10\n",
      "60000/60000 [==============================] - 7s 112us/sample - loss: 0.2835 - accuracy: 0.8960\n",
      "Epoch 8/10\n",
      "60000/60000 [==============================] - 7s 111us/sample - loss: 0.2716 - accuracy: 0.9006\n",
      "Epoch 9/10\n",
      "60000/60000 [==============================] - 6s 103us/sample - loss: 0.2628 - accuracy: 0.9030\n",
      "Epoch 10/10\n",
      "60000/60000 [==============================] - 8s 139us/sample - loss: 0.2522 - accuracy: 0.9068\n",
      "10000/10000 [==============================] - 1s 103us/sample - loss: 0.3369 - accuracy: 0.8796\n"
     ]
    }
   ],
   "source": [
    "#Sigmoid model\n",
    "sigmoid_test_acc = []\n",
    "for i in range(1,11):\n",
    "    model_sigmoid = keras.Sequential([\n",
    "    \n",
    "    keras.layers.Flatten(input_shape=(28,28)),\n",
    "    keras.layers.Dense(128,activation=\"sigmoid\"), \n",
    "    keras.layers.Dense(10,activation=\"softmax\") #softmax: gives you the probabilities it thinks the data belongs to each class\n",
    "    ])\n",
    "\n",
    "    model_sigmoid.compile(optimizer=\"adam\",loss=\"sparse_categorical_crossentropy\",metrics=[\"accuracy\"])\n",
    "    \n",
    "    model_sigmoid.fit(train_images,train_labels,epochs=i)#you can tweak the number of epochs to get better results\n",
    "    test_loss_sigmoid_list,test_acc_sigmoid_list = model_sigmoid.evaluate(test_images,test_labels)\n",
    "    sigmoid_test_acc.append(test_acc_sigmoid_list)\n",
    "    "
   ]
  },
  {
   "cell_type": "code",
   "execution_count": 17,
   "metadata": {},
   "outputs": [
    {
     "data": {
      "text/plain": [
       "[0.8416, 0.8508, 0.8689, 0.864, 0.873, 0.875, 0.8762, 0.878, 0.8857, 0.8796]"
      ]
     },
     "execution_count": 17,
     "metadata": {},
     "output_type": "execute_result"
    }
   ],
   "source": [
    "sigmoid_train_acc = [0.8163,0.8599,0.8709,0.8799,0.8874,0.8920,0.8961,0.8996,0.9022,0.9082]\n",
    "sigmoid_test_acc"
   ]
  },
  {
   "cell_type": "code",
   "execution_count": 18,
   "metadata": {},
   "outputs": [
    {
     "data": {
      "text/plain": [
       "<matplotlib.legend.Legend at 0x1ba9f66f548>"
      ]
     },
     "execution_count": 18,
     "metadata": {},
     "output_type": "execute_result"
    },
    {
     "data": {
      "image/png": "[encoded data removed]",
      "text/plain": [
       "<Figure size 432x288 with 1 Axes>"
      ]
     },
     "metadata": {
      "needs_background": "light"
     },
     "output_type": "display_data"
    }
   ],
   "source": [
    "x = [i for i in range(1,11)]\n",
    "y1 = sigmoid_train_acc\n",
    "y2 = sigmoid_test_acc\n",
    "plt.plot(x,y1,marker=\"o\",color=\"skyblue\",linestyle=\"dashed\",label=\"train_accuracy\")\n",
    "plt.plot(x,y2,marker=\"o\",color=\"green\",label=\"test_accuracy\")\n",
    "plt.xlabel(\"Number of epochs\")\n",
    "plt.ylabel(\"Accuracy\")\n",
    "plt.legend()"
   ]
  },
  {
   "cell_type": "code",
   "execution_count": 19,
   "metadata": {},
   "outputs": [
    {
     "name": "stdout",
     "output_type": "stream",
     "text": [
      "Train on 60000 samples\n",
      "60000/60000 [==============================] - 7s 120us/sample - loss: 0.4794 - accuracy: 0.8278\n",
      "10000/10000 [==============================] - 1s 88us/sample - loss: 0.4350 - accuracy: 0.8437\n",
      "Train on 60000 samples\n",
      "Epoch 1/2\n",
      "60000/60000 [==============================] - 7s 114us/sample - loss: 0.4738 - accuracy: 0.8312\n",
      "Epoch 2/2\n",
      "60000/60000 [==============================] - 7s 113us/sample - loss: 0.3694 - accuracy: 0.8649\n",
      "10000/10000 [==============================] - 1s 86us/sample - loss: 0.4021 - accuracy: 0.8570\n",
      "Train on 60000 samples\n",
      "Epoch 1/3\n",
      "60000/60000 [==============================] - 7s 111us/sample - loss: 0.4767 - accuracy: 0.8294\n",
      "Epoch 2/3\n",
      "60000/60000 [==============================] - 7s 110us/sample - loss: 0.3713 - accuracy: 0.8651\n",
      "Epoch 3/3\n",
      "60000/60000 [==============================] - 7s 111us/sample - loss: 0.3374 - accuracy: 0.8767\n",
      "10000/10000 [==============================] - 1s 83us/sample - loss: 0.3632 - accuracy: 0.8711\n",
      "Train on 60000 samples\n",
      "Epoch 1/4\n",
      "60000/60000 [==============================] - 7s 112us/sample - loss: 0.4764 - accuracy: 0.8293\n",
      "Epoch 2/4\n",
      "60000/60000 [==============================] - 6s 104us/sample - loss: 0.3665 - accuracy: 0.8651\n",
      "Epoch 3/4\n",
      "60000/60000 [==============================] - 6s 105us/sample - loss: 0.3352 - accuracy: 0.8769\n",
      "Epoch 4/4\n",
      "60000/60000 [==============================] - 6s 105us/sample - loss: 0.3109 - accuracy: 0.8854\n",
      "10000/10000 [==============================] - 1s 85us/sample - loss: 0.3667 - accuracy: 0.8664\n",
      "Train on 60000 samples\n",
      "Epoch 1/5\n",
      "60000/60000 [==============================] - 7s 111us/sample - loss: 0.4764 - accuracy: 0.8296\n",
      "Epoch 2/5\n",
      "60000/60000 [==============================] - 6s 100us/sample - loss: 0.3696 - accuracy: 0.8661\n",
      "Epoch 3/5\n",
      "60000/60000 [==============================] - 7s 123us/sample - loss: 0.3375 - accuracy: 0.8762\n",
      "Epoch 4/5\n",
      "60000/60000 [==============================] - 6s 103us/sample - loss: 0.3139 - accuracy: 0.8845\n",
      "Epoch 5/5\n",
      "60000/60000 [==============================] - 6s 104us/sample - loss: 0.2959 - accuracy: 0.8903\n",
      "10000/10000 [==============================] - 1s 76us/sample - loss: 0.3543 - accuracy: 0.8711\n",
      "Train on 60000 samples\n",
      "Epoch 1/6\n",
      "60000/60000 [==============================] - 6s 103us/sample - loss: 0.4789 - accuracy: 0.8283\n",
      "Epoch 2/6\n",
      "60000/60000 [==============================] - 6s 98us/sample - loss: 0.3715 - accuracy: 0.8653\n",
      "Epoch 3/6\n",
      "60000/60000 [==============================] - 6s 97us/sample - loss: 0.3343 - accuracy: 0.8780\n",
      "Epoch 4/6\n",
      "60000/60000 [==============================] - 6s 103us/sample - loss: 0.3100 - accuracy: 0.8850\n",
      "Epoch 5/6\n",
      "60000/60000 [==============================] - 7s 109us/sample - loss: 0.2947 - accuracy: 0.8916\n",
      "Epoch 6/6\n",
      "60000/60000 [==============================] - 6s 98us/sample - loss: 0.2827 - accuracy: 0.8943\n",
      "10000/10000 [==============================] - 1s 73us/sample - loss: 0.3447 - accuracy: 0.8745\n",
      "Train on 60000 samples\n",
      "Epoch 1/7\n",
      "60000/60000 [==============================] - 7s 114us/sample - loss: 0.4752 - accuracy: 0.8289\n",
      "Epoch 2/7\n",
      "60000/60000 [==============================] - 8s 130us/sample - loss: 0.3678 - accuracy: 0.8658\n",
      "Epoch 3/7\n",
      "60000/60000 [==============================] - 8s 138us/sample - loss: 0.3347 - accuracy: 0.8767\n",
      "Epoch 4/7\n",
      "60000/60000 [==============================] - 8s 132us/sample - loss: 0.3123 - accuracy: 0.8840\n",
      "Epoch 5/7\n",
      "60000/60000 [==============================] - 8s 132us/sample - loss: 0.2954 - accuracy: 0.8908\n",
      "Epoch 6/7\n",
      "60000/60000 [==============================] - 8s 125us/sample - loss: 0.2809 - accuracy: 0.8963\n",
      "Epoch 7/7\n",
      "60000/60000 [==============================] - 8s 133us/sample - loss: 0.2705 - accuracy: 0.8995\n",
      "10000/10000 [==============================] - 1s 97us/sample - loss: 0.3459 - accuracy: 0.8756\n",
      "Train on 60000 samples\n",
      "Epoch 1/8\n",
      "60000/60000 [==============================] - 8s 141us/sample - loss: 0.4745 - accuracy: 0.8292\n",
      "Epoch 2/8\n",
      "60000/60000 [==============================] - 8s 134us/sample - loss: 0.3669 - accuracy: 0.8655\n",
      "Epoch 3/8\n",
      "60000/60000 [==============================] - 7s 110us/sample - loss: 0.3339 - accuracy: 0.8773\n",
      "Epoch 4/8\n",
      "60000/60000 [==============================] - 6s 102us/sample - loss: 0.3122 - accuracy: 0.8844\n",
      "Epoch 5/8\n",
      "60000/60000 [==============================] - 7s 119us/sample - loss: 0.2930 - accuracy: 0.8911\n",
      "Epoch 6/8\n",
      "60000/60000 [==============================] - 8s 131us/sample - loss: 0.2806 - accuracy: 0.8961\n",
      "Epoch 7/8\n",
      "60000/60000 [==============================] - 6s 102us/sample - loss: 0.2687 - accuracy: 0.9001\n",
      "Epoch 8/8\n",
      "60000/60000 [==============================] - 6s 101us/sample - loss: 0.2563 - accuracy: 0.9042\n",
      "10000/10000 [==============================] - 1s 79us/sample - loss: 0.3357 - accuracy: 0.8797\n",
      "Train on 60000 samples\n",
      "Epoch 1/9\n",
      "60000/60000 [==============================] - 9s 146us/sample - loss: 0.4773 - accuracy: 0.8278\n",
      "Epoch 2/9\n",
      "60000/60000 [==============================] - 6s 105us/sample - loss: 0.3663 - accuracy: 0.8658\n",
      "Epoch 3/9\n",
      "60000/60000 [==============================] - 7s 117us/sample - loss: 0.3311 - accuracy: 0.8761\n",
      "Epoch 4/9\n",
      "60000/60000 [==============================] - 7s 114us/sample - loss: 0.3116 - accuracy: 0.8864\n",
      "Epoch 5/9\n",
      "60000/60000 [==============================] - 7s 117us/sample - loss: 0.2936 - accuracy: 0.8910\n",
      "Epoch 6/9\n",
      "60000/60000 [==============================] - 6s 105us/sample - loss: 0.2811 - accuracy: 0.8961\n",
      "Epoch 7/9\n",
      "60000/60000 [==============================] - 7s 110us/sample - loss: 0.2696 - accuracy: 0.8992\n",
      "Epoch 8/9\n",
      "60000/60000 [==============================] - 6s 107us/sample - loss: 0.2576 - accuracy: 0.9043\n",
      "Epoch 9/9\n",
      "60000/60000 [==============================] - 7s 109us/sample - loss: 0.2496 - accuracy: 0.9071\n",
      "10000/10000 [==============================] - 1s 92us/sample - loss: 0.3566 - accuracy: 0.8713\n",
      "Train on 60000 samples\n",
      "Epoch 1/10\n",
      "60000/60000 [==============================] - 9s 143us/sample - loss: 0.4788 - accuracy: 0.8267 - loss: 0\n",
      "Epoch 2/10\n",
      "60000/60000 [==============================] - 7s 116us/sample - loss: 0.3676 - accuracy: 0.8663\n",
      "Epoch 3/10\n",
      "60000/60000 [==============================] - 6s 104us/sample - loss: 0.3338 - accuracy: 0.8774\n",
      "Epoch 4/10\n",
      "60000/60000 [==============================] - 6s 105us/sample - loss: 0.3117 - accuracy: 0.8861\n",
      "Epoch 5/10\n",
      "60000/60000 [==============================] - 6s 100us/sample - loss: 0.2937 - accuracy: 0.8914\n",
      "Epoch 6/10\n",
      "60000/60000 [==============================] - 6s 102us/sample - loss: 0.2813 - accuracy: 0.8947\n",
      "Epoch 7/10\n",
      "60000/60000 [==============================] - 7s 122us/sample - loss: 0.2684 - accuracy: 0.9010\n",
      "Epoch 8/10\n",
      "60000/60000 [==============================] - 7s 115us/sample - loss: 0.2564 - accuracy: 0.9052\n",
      "Epoch 9/10\n",
      "60000/60000 [==============================] - 7s 114us/sample - loss: 0.2473 - accuracy: 0.9073\n",
      "Epoch 10/10\n",
      "60000/60000 [==============================] - 7s 115us/sample - loss: 0.2424 - accuracy: 0.9088\n",
      "10000/10000 [==============================] - 2s 166us/sample - loss: 0.3411 - accuracy: 0.8765\n"
     ]
    }
   ],
   "source": [
    "tanh_test_acc = []\n",
    "for i in range(1,11):\n",
    "    model_tanh = keras.Sequential([\n",
    "    \n",
    "    keras.layers.Flatten(input_shape=(28,28)),\n",
    "    keras.layers.Dense(128,activation=\"tanh\"), \n",
    "    keras.layers.Dense(10,activation=\"softmax\") #softmax: gives you the probabilities it thinks the data belongs to each class\n",
    "    ])\n",
    "\n",
    "    model_tanh.compile(optimizer=\"adam\",loss=\"sparse_categorical_crossentropy\",metrics=[\"accuracy\"])\n",
    "    model_tanh.fit(train_images,train_labels,epochs=i)#you can tweak the number of epochs to get better results\n",
    "    test_loss_tanh_list,test_acc_tanh_list = model_tanh.evaluate(test_images,test_labels)\n",
    "    tanh_test_acc.append(test_acc_tanh_list)\n",
    "    "
   ]
  },
  {
   "cell_type": "code",
   "execution_count": 20,
   "metadata": {},
   "outputs": [
    {
     "data": {
      "text/plain": [
       "<matplotlib.legend.Legend at 0x1baa09a1fc8>"
      ]
     },
     "execution_count": 20,
     "metadata": {},
     "output_type": "execute_result"
    },
    {
     "data": {
      "image/png": "[encoded data removed]",
      "text/plain": [
       "<Figure size 432x288 with 1 Axes>"
      ]
     },
     "metadata": {
      "needs_background": "light"
     },
     "output_type": "display_data"
    }
   ],
   "source": [
    "tanh_train_acc=[0.8283,0.8651,0.8776,0.8856,0.8914,0.8961,0.9009,0.9047,0.9072,0.9097]\n",
    "x = [i for i in range(1,11)]\n",
    "y1 = tanh_train_acc\n",
    "y2 = tanh_test_acc\n",
    "plt.plot(x,y1,marker=\"o\",color=\"skyblue\",linestyle=\"dashed\",label=\"train_accuracy\")\n",
    "plt.plot(x,y2,marker=\"o\",color=\"green\",label=\"test_accuracy\")\n",
    "plt.xlabel(\"Number of epochs\")\n",
    "plt.ylabel(\"Accuracy\")\n",
    "plt.legend()"
   ]
  },
  {
   "cell_type": "code",
   "execution_count": 21,
   "metadata": {},
   "outputs": [
    {
     "name": "stdout",
     "output_type": "stream",
     "text": [
      "2\n"
     ]
    },
    {
     "data": {
      "text/plain": [
       "0.01100000000000001"
      ]
     },
     "execution_count": 21,
     "metadata": {},
     "output_type": "execute_result"
    }
   ],
   "source": [
    "#relu\n",
    "a = [0.8239, 0.8647, 0.8784,0.8864,0.8907,0.8959,0.9010,0.9056,0.9075,0.9110]\n",
    "b=  [0.8448,0.8512,0.8674,0.8673,0.8693,0.8836,0.8793,0.8790,0.8751,0.8870]\n",
    "c=[]\n",
    "for i in range(len(a)):\n",
    "    c.append(abs(a[i]-b[i]))\n",
    "print(c.index(min(c)))\n",
    "abs(a[2]-b[2])"
   ]
  },
  {
   "cell_type": "code",
   "execution_count": 22,
   "metadata": {},
   "outputs": [
    {
     "name": "stdout",
     "output_type": "stream",
     "text": [
      "1\n"
     ]
    },
    {
     "data": {
      "text/plain": [
       "0.008399999999999963"
      ]
     },
     "execution_count": 22,
     "metadata": {},
     "output_type": "execute_result"
    }
   ],
   "source": [
    "#sigmoid\n",
    "a=[0.8163,0.8599,0.8709,0.8799,0.8874,0.8920,0.8961,0.8996,0.9022,0.9082] #train accuracies\n",
    "b=[0.8407,0.8515,0.8618,0.8663,0.8679,0.8763,0.8762,0.8804,0.8753,0.8823]\n",
    "c=[]\n",
    "for i in range(len(a)):\n",
    "    c.append(abs(a[i]-b[i]))\n",
    "print(c.index(min(c)))\n",
    "abs(a[1]-b[1])"
   ]
  },
  {
   "cell_type": "code",
   "execution_count": 23,
   "metadata": {},
   "outputs": [
    {
     "name": "stdout",
     "output_type": "stream",
     "text": [
      "1\n"
     ]
    },
    {
     "data": {
      "text/plain": [
       "0.005699999999999927"
      ]
     },
     "execution_count": 23,
     "metadata": {},
     "output_type": "execute_result"
    }
   ],
   "source": [
    "#tanh\n",
    "a=[0.8283,0.8651,0.8776,0.8856,0.8914,0.8961,0.9009,0.9047,0.9072,0.9097]\n",
    "b=[0.8527,0.8594,0.8575,0.8669,0.8752,0.8734,0.8788,0.8752,0.8780,0.8716]\n",
    "c=[]\n",
    "for i in range(len(a)):\n",
    "    c.append(abs(a[i]-b[i]))\n",
    "print(c.index(min(c)))\n",
    "abs(a[1]-b[1])"
   ]
  },
  {
   "cell_type": "code",
   "execution_count": 27,
   "metadata": {},
   "outputs": [
    {
     "data": {
      "image/png": "[encoded data removed]",
      "text/plain": [
       "<Figure size 432x288 with 1 Axes>"
      ]
     },
     "metadata": {
      "needs_background": "light"
     },
     "output_type": "display_data"
    },
    {
     "data": {
      "image/png": "[encoded data removed]",
      "text/plain": [
       "<Figure size 432x288 with 1 Axes>"
      ]
     },
     "metadata": {
      "needs_background": "light"
     },
     "output_type": "display_data"
    },
    {
     "data": {
      "image/png": "[encoded data removed]",
      "text/plain": [
       "<Figure size 432x288 with 1 Axes>"
      ]
     },
     "metadata": {
      "needs_background": "light"
     },
     "output_type": "display_data"
    },
    {
     "data": {
      "image/png": "[encoded data removed]",
      "text/plain": [
       "<Figure size 432x288 with 1 Axes>"
      ]
     },
     "metadata": {
      "needs_background": "light"
     },
     "output_type": "display_data"
    },
    {
     "data": {
      "image/png": "[encoded data removed]",
      "text/plain": [
       "<Figure size 432x288 with 1 Axes>"
      ]
     },
     "metadata": {
      "needs_background": "light"
     },
     "output_type": "display_data"
    }
   ],
   "source": [
    "prediction = model_tanh.predict(test_images)#you get the predictions your model predicted on your test dataset\n",
    "\n",
    "#for simple understanding a simple graph showing the predicted vs the actual item in our dataset\n",
    "for i in range(5):\n",
    "    plt.grid(False)\n",
    "    plt.imshow(test_images[i])\n",
    "    plt.xlabel(\"Actual:\"+ class_names[test_labels[i]])\n",
    "    plt.title(\"Prediction:\"+class_names[np.argmax(prediction[i])])\n",
    "    plt.show()"
   ]
  },
  {
   "cell_type": "code",
   "execution_count": null,
   "metadata": {},
   "outputs": [],
   "source": []
  },
  {
   "cell_type": "code",
   "execution_count": null,
   "metadata": {},
   "outputs": [],
   "source": []
  },
  {
   "cell_type": "code",
   "execution_count": null,
   "metadata": {},
   "outputs": [],
   "source": []
  },
  {
   "cell_type": "code",
   "execution_count": null,
   "metadata": {},
   "outputs": [],
   "source": []
  },
  {
   "cell_type": "code",
   "execution_count": null,
   "metadata": {},
   "outputs": [],
   "source": []
  },
  {
   "cell_type": "code",
   "execution_count": null,
   "metadata": {},
   "outputs": [],
   "source": []
  },
  {
   "cell_type": "code",
   "execution_count": null,
   "metadata": {},
   "outputs": [],
   "source": []
  }
 ],
 "metadata": {
  "kernelspec": {
   "display_name": "Python 3",
   "language": "python",
   "name": "python3"
  }
 },
 "nbformat": 4,
 "nbformat_minor": 2
}
